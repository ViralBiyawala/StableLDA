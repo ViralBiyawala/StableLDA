{
 "cells": [
  {
   "cell_type": "code",
   "execution_count": 1,
   "id": "f5f60776",
   "metadata": {},
   "outputs": [],
   "source": [
    "import io\n",
    "import pandas as pd\n",
    "import gensim"
   ]
  },
  {
   "cell_type": "code",
   "execution_count": 2,
   "id": "fda2eb83",
   "metadata": {},
   "outputs": [],
   "source": [
    "from stability import *\n",
    "from stablelda import StableLDA"
   ]
  },
  {
   "cell_type": "markdown",
   "id": "3f6c2a9c",
   "metadata": {},
   "source": [
    "#### train a topic model of 25 topics on the stackexchange dataset using Stable LDA "
   ]
  },
  {
   "cell_type": "code",
   "execution_count": 3,
   "id": "1aa3c57d",
   "metadata": {},
   "outputs": [],
   "source": [
    "bow_file = 'data/stackexchange.bow'\n",
    "vocab_file = 'data/stackexchange.vocab'\n",
    "\n",
    "num_topics = 25\n",
    "num_words = 5000\n",
    "alpha, beta, eta = 1, 0.01, 1000\n",
    "epochs = 5\n",
    "rand_seed = 42\n",
    "output_dir = 'data/output/'"
   ]
  },
  {
   "cell_type": "code",
   "execution_count": 4,
   "id": "c88320de",
   "metadata": {},
   "outputs": [
    {
     "name": "stdout",
     "output_type": "stream",
     "text": [
      "--------running Stable LDA model----------\n",
      "--------- loading data ----------------\n",
      "train -f data/stackexchange.bow -v data/stackexchange.vocab -c data/output/cluster.dat -z data/output/z.dat -t 25 -w 5000 -a 1 -b 0.01 -e 1000 -n 5 -r 42 -o data/output/\n"
     ]
    }
   ],
   "source": [
    "stablelda = StableLDA(num_topics, num_words, alpha, beta, eta, rand_seed, output_dir)\n",
    "stablelda.train(bow_file, vocab_file, epochs)\n",
    "\n",
    "docs, vocab, theta, phi = load_topic_model_results(bow_file, vocab_file,\n",
    "                                                     output_dir+'theta.dat', output_dir+'phi.dat')\n",
    "tm = TopicModel(num_topics, theta, phi, docs, vocab)\n",
    "\n",
    "# tm.print_top_n_words(10)"
   ]
  },
  {
   "cell_type": "markdown",
   "id": "eba00bda",
   "metadata": {},
   "source": [
    "#### compute model perplexity"
   ]
  },
  {
   "cell_type": "code",
   "execution_count": 5,
   "id": "d6025efb",
   "metadata": {},
   "outputs": [
    {
     "name": "stdout",
     "output_type": "stream",
     "text": [
      "compute likelihood\n",
      "likelihood: -14973562.224153275\n",
      "perplexity: 820.8899806129051\n"
     ]
    },
    {
     "data": {
      "text/plain": [
       "820.8899806129051"
      ]
     },
     "execution_count": 5,
     "metadata": {},
     "output_type": "execute_result"
    }
   ],
   "source": [
    "compute_perlexity(docs, theta, phi)"
   ]
  },
  {
   "cell_type": "markdown",
   "id": "d04c0add",
   "metadata": {},
   "source": [
    "#### compute model coherence.\n",
    "we use Gensim's coherence method. We need to prepare gensim_bow, and id2word"
   ]
  },
  {
   "cell_type": "code",
   "execution_count": 6,
   "id": "0809a708",
   "metadata": {},
   "outputs": [],
   "source": [
    "topics = tm.get_top_n_words(10)"
   ]
  },
  {
   "cell_type": "code",
   "execution_count": 7,
   "id": "0a2d5857",
   "metadata": {},
   "outputs": [],
   "source": [
    "#### read in raw text data -- used for windows-based topic coherence measure\n",
    "with io.open(bow_file, 'r', encoding='utf-8') as f:\n",
    "    texts = [line.split() for line in f.read().splitlines()]"
   ]
  },
  {
   "cell_type": "code",
   "execution_count": 8,
   "id": "191f41b2",
   "metadata": {},
   "outputs": [],
   "source": [
    "#### prepare gensim_bow and id2word\n",
    "id2word = gensim.corpora.Dictionary(texts)\n",
    "gensim_bow = [id2word.doc2bow(text) for text in texts]"
   ]
  },
  {
   "cell_type": "code",
   "execution_count": 9,
   "id": "4988a513",
   "metadata": {},
   "outputs": [
    {
     "name": "stdout",
     "output_type": "stream",
     "text": [
      "topic coherence c_uci 0.577670723812638\n"
     ]
    }
   ],
   "source": [
    "print('topic coherence c_uci', compute_coherence(gensim_bow, texts, id2word, topics, coherence_score='c_uci') )"
   ]
  },
  {
   "cell_type": "code",
   "execution_count": 10,
   "id": "e18502d8",
   "metadata": {},
   "outputs": [
    {
     "name": "stdout",
     "output_type": "stream",
     "text": [
      "topic coherence c_v 0.5747375848105956\n"
     ]
    }
   ],
   "source": [
    "print('topic coherence c_v', compute_coherence(gensim_bow, texts, id2word, topics, coherence_score='c_v') )"
   ]
  },
  {
   "cell_type": "code",
   "execution_count": 18,
   "id": "0b63aaf9",
   "metadata": {},
   "outputs": [
    {
     "name": "stdout",
     "output_type": "stream",
     "text": [
      "damag kill attack enemi hit weapon target rang shield deal\n",
      "block place activ spawn remov test line stand mob portal\n",
      "good lot better best make usual fight pretti hard easi\n",
      "time need start try second abl get turn got happen\n",
      "like wai want know thing help possibl sure think problem\n",
      "dragon dark soul heart defeat form king good super hunter\n",
      "unit destroi forc defens oppon base tower tank hero air\n",
      "skill armor spell hand equip magic enchant monster potion sword\n",
      "strong level item drop class normal gold card chest pack\n",
      "game new account updat avail origin access onlin old free\n",
      "point charact complet end quest mission unlock order achiev main\n",
      "bui upgrad pick store trade weapon cost monei resourc sell\n",
      "area room wall water head near door path insid ground\n",
      "code pre command minecraft type quot add count tag score\n",
      "save version server file steam world mod creat instal download\n",
      "set alt look right option map open kbd click allow\n",
      "effect power increas number chanc speed mean health high stat\n",
      "control connect xbox consol drive devic internet port work network\n",
      "href rel noreferr nofollow blockquot src img imag enter descript\n",
      "build citi ship space small land engin train height larg\n",
      "run window support issu java sound try graphic machin memori\n",
      "instead move jump hold fast direct posit distanc talk face\n",
      "plai player team mode friend battl singl match win rank\n",
      "work chang wai differ pokemon like gener follow bug possibl\n",
      "answer question mean seen believ result fact understand develop explain\n"
     ]
    }
   ],
   "source": [
    "tm.print_top_n_words(10)"
   ]
  }
 ],
 "metadata": {
  "kernelspec": {
   "display_name": "stable_lda",
   "language": "python",
   "name": "python3"
  },
  "language_info": {
   "codemirror_mode": {
    "name": "ipython",
    "version": 3
   },
   "file_extension": ".py",
   "mimetype": "text/x-python",
   "name": "python",
   "nbconvert_exporter": "python",
   "pygments_lexer": "ipython3",
   "version": "3.11.3"
  }
 },
 "nbformat": 4,
 "nbformat_minor": 5
}
